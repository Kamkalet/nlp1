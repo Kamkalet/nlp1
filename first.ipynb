{
 "cells": [
  {
   "cell_type": "code",
   "execution_count": null,
   "metadata": {
    "collapsed": true
   },
   "outputs": [],
   "source": [
    "import glob\n",
    "import regex\n",
    "import re\n",
    "import pprint\n",
    "\n",
    "\n",
    "list_of_files = glob.glob('./ustawy/*.txt')  # create the list of file\n",
    "\n",
    "bills = []\n",
    "\n",
    "# didnt sort, simple solution with errors\n",
    "\n",
    "for file_name in list_of_files:\n",
    "    with open(file_name, 'r') as myfile:\n",
    "        data = myfile.read()\n",
    "\n",
    "        matches = regex.findall(r'(ustaw(?=.{,15} dni).*?(\\d{4}).*?r\\..*?)(?:\\(Dz\\.U\\..*?(poz\\. \\d*).*?\\)|\\.)', data, regex.DOTALL)\n",
    "\n",
    "        for i in matches:\n",
    "            bills.append(i)\n",
    "\n",
    "for i in bills:\n",
    "    print(str(i) + \"\\n\")"
   ]
  }
 ],
 "metadata": {
  "kernelspec": {
   "display_name": "Python 2",
   "language": "python",
   "name": "python2"
  },
  "language_info": {
   "codemirror_mode": {
    "name": "ipython",
    "version": 2
   },
   "file_extension": ".py",
   "mimetype": "text/x-python",
   "name": "python",
   "nbconvert_exporter": "python",
   "pygments_lexer": "ipython2",
   "version": "2.7.6"
  }
 },
 "nbformat": 4,
 "nbformat_minor": 0
}
