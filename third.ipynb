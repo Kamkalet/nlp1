{
 "cells": [
  {
   "cell_type": "code",
   "execution_count": null,
   "metadata": {
    "collapsed": true
   },
   "outputs": [],
   "source": [
    "\n",
    "\n",
    "import glob\n",
    "import regex\n",
    "\n",
    "list_of_files = glob.glob('./ustawy/*.txt')           \n",
    "\n",
    "word_counter = 0\n",
    "for file_name in list_of_files:\n",
    "    with open(file_name, 'r') as myfile:\n",
    "        data = myfile.read()\n",
    "        bills = regex.findall(r'(?i)(ustaw)(?=(ą|ę|y|a|ie|([ ])|om|ami|ach|o))', data)\n",
    "        word_counter += len(bills)\n",
    "        myfile.close()\n",
    "\n",
    "print(word_counter)\n"
   ]
  }
 ],
 "metadata": {
  "kernelspec": {
   "display_name": "Python 2",
   "language": "python",
   "name": "python2"
  },
  "language_info": {
   "codemirror_mode": {
    "name": "ipython",
    "version": 2
   },
   "file_extension": ".py",
   "mimetype": "text/x-python",
   "name": "python",
   "nbconvert_exporter": "python",
   "pygments_lexer": "ipython2",
   "version": "2.7.6"
  }
 },
 "nbformat": 4,
 "nbformat_minor": 0
}
